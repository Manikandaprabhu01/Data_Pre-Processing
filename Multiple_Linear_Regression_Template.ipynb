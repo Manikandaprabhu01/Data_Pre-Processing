{
  "nbformat": 4,
  "nbformat_minor": 0,
  "metadata": {
    "colab": {
      "name": "Multiple Linear Regression Template.ipynb",
      "provenance": [],
      "collapsed_sections": [],
      "include_colab_link": true
    },
    "kernelspec": {
      "name": "python3",
      "display_name": "Python 3"
    }
  },
  "cells": [
    {
      "cell_type": "markdown",
      "metadata": {
        "id": "view-in-github",
        "colab_type": "text"
      },
      "source": [
        "<a href=\"https://colab.research.google.com/github/Manikandaprabhu01/Machine-Learning/blob/main/Multiple_Linear_Regression_Template.ipynb\" target=\"_parent\"><img src=\"https://colab.research.google.com/assets/colab-badge.svg\" alt=\"Open In Colab\"/></a>"
      ]
    },
    {
      "cell_type": "markdown",
      "metadata": {
        "id": "FB7mg-9WUSAn"
      },
      "source": [
        "# Multiple Linear Regression "
      ]
    },
    {
      "cell_type": "markdown",
      "metadata": {
        "id": "zcXufiytUV3b"
      },
      "source": [
        "## Importing Libraries"
      ]
    },
    {
      "cell_type": "code",
      "source": [
        "import numpy as np\n",
        "import matplotlib.pyplot as plt\n",
        "import pandas as pd"
      ],
      "metadata": {
        "id": "MO3IbHoSNNFa"
      },
      "execution_count": 1,
      "outputs": []
    },
    {
      "cell_type": "markdown",
      "metadata": {
        "id": "x1V8I7-1Ugu8"
      },
      "source": [
        "## Importing Data Set"
      ]
    },
    {
      "cell_type": "code",
      "source": [
        "dataset = pd.read_csv('Covid_data Multiple Linear Regression.csv')\n",
        "X = dataset.iloc[:,:-1].values\n",
        "y = dataset.iloc[:,-1].values"
      ],
      "metadata": {
        "id": "5CT3Kv8wNdb7"
      },
      "execution_count": 3,
      "outputs": []
    },
    {
      "cell_type": "markdown",
      "metadata": {
        "id": "V9bZq2w39GwP"
      },
      "source": [
        "## Encoding categorical data"
      ]
    },
    {
      "cell_type": "code",
      "source": [
        "from sklearn.compose import ColumnTransformer\n",
        "from sklearn.preprocessing import OneHotEncoder\n",
        "ct = ColumnTransformer(transformers = [('encoder', OneHotEncoder(), [1])], remainder ='passthrough')\n",
        "X = np.array(ct.fit_transform(X))\n"
      ],
      "metadata": {
        "id": "95soFSSuQSbU"
      },
      "execution_count": 5,
      "outputs": []
    },
    {
      "cell_type": "code",
      "source": [
        "print(X)"
      ],
      "metadata": {
        "colab": {
          "base_uri": "https://localhost:8080/"
        },
        "id": "grCYJYedhfnp",
        "outputId": "23dba8e9-743d-4b30-f74a-9da7f284713f"
      },
      "execution_count": 6,
      "outputs": [
        {
          "output_type": "stream",
          "name": "stdout",
          "text": [
            "[[0.0 0.0 1.0 10 0 97]\n",
            " [1.0 0.0 0.0 80 0 92]\n",
            " [0.0 1.0 0.0 10 0 97]\n",
            " [1.0 0.0 0.0 81 4 75]\n",
            " [0.0 0.0 1.0 12 0 97]\n",
            " [0.0 1.0 0.0 18 0 66]\n",
            " [0.0 0.0 1.0 13 0 93]\n",
            " [1.0 0.0 0.0 94 4 64]\n",
            " [1.0 0.0 0.0 86 2 76]\n",
            " [0.0 0.0 1.0 20 0 92]\n",
            " [0.0 0.0 1.0 15 0 94]\n",
            " [0.0 0.0 1.0 15 0 92]\n",
            " [0.0 1.0 0.0 16 0 92]\n",
            " [0.0 0.0 1.0 17 0 93]\n",
            " [0.0 0.0 1.0 18 0 93]\n",
            " [0.0 0.0 1.0 19 0 92]\n",
            " [0.0 0.0 1.0 19 0 89]\n",
            " [0.0 0.0 1.0 12 0 97]\n",
            " [0.0 0.0 1.0 20 0 93]\n",
            " [0.0 0.0 1.0 24 0 92]\n",
            " [0.0 0.0 1.0 25 0 93]\n",
            " [1.0 0.0 0.0 59 2 68]\n",
            " [1.0 0.0 0.0 63 1 66]\n",
            " [0.0 0.0 1.0 25 1 62]\n",
            " [1.0 0.0 0.0 26 0 94]\n",
            " [0.0 1.0 0.0 26 0 97]\n",
            " [0.0 0.0 1.0 28 0 99]\n",
            " [1.0 0.0 0.0 59 0 69]\n",
            " [0.0 0.0 1.0 28 0 89]\n",
            " [0.0 0.0 1.0 29 0 93]\n",
            " [0.0 0.0 1.0 48 0 93]\n",
            " [0.0 0.0 1.0 30 0 62]\n",
            " [0.0 0.0 1.0 30 0 86]\n",
            " [0.0 0.0 1.0 32 0 84]\n",
            " [0.0 0.0 1.0 34 1 90]\n",
            " [0.0 0.0 1.0 35 0 89]\n",
            " [1.0 0.0 0.0 50 2 77]\n",
            " [1.0 0.0 0.0 56 2 76]\n",
            " [1.0 0.0 0.0 56 1 77]\n",
            " [1.0 0.0 0.0 36 1 90]\n",
            " [1.0 0.0 0.0 38 2 75]\n",
            " [0.0 0.0 1.0 40 0 90]\n",
            " [1.0 0.0 0.0 40 0 92]\n",
            " [1.0 0.0 0.0 61 2 76]\n",
            " [1.0 0.0 0.0 42 0 92]\n",
            " [1.0 0.0 0.0 46 0 91]\n",
            " [0.0 0.0 1.0 49 0 80]\n",
            " [1.0 0.0 0.0 52 1 80]\n",
            " [0.0 0.0 1.0 32 0 89]\n",
            " [1.0 0.0 0.0 53 1 55]\n",
            " [1.0 0.0 0.0 54 1 70]\n",
            " [1.0 0.0 0.0 90 3 67]\n",
            " [1.0 0.0 0.0 78 2 71]\n",
            " [1.0 0.0 0.0 58 0 70]\n",
            " [1.0 0.0 0.0 60 1 68]\n",
            " [0.0 0.0 1.0 61 0 90]\n",
            " [1.0 0.0 0.0 62 1 68]\n",
            " [1.0 0.0 0.0 86 3 71]\n",
            " [1.0 0.0 0.0 62 2 69]\n",
            " [1.0 0.0 0.0 64 1 73]\n",
            " [1.0 0.0 0.0 68 1 67]\n",
            " [1.0 0.0 0.0 69 0 53]\n",
            " [0.0 0.0 1.0 70 1 88]\n",
            " [1.0 0.0 0.0 74 2 75]\n",
            " [1.0 0.0 0.0 75 1 72]\n",
            " [1.0 0.0 0.0 76 4 80]\n",
            " [0.0 0.0 1.0 35 0 92]\n",
            " [0.0 0.0 1.0 13 0 94]\n",
            " [1.0 0.0 0.0 82 3 73]\n",
            " [1.0 0.0 0.0 84 3 75]]\n"
          ]
        }
      ]
    },
    {
      "cell_type": "markdown",
      "metadata": {
        "id": "2vBbKI1BUilB"
      },
      "source": [
        "## Splitting into test and training set"
      ]
    },
    {
      "cell_type": "code",
      "source": [
        "from sklearn.model_selection import train_test_split\n",
        "X_train,X_test,y_train,y_test = train_test_split(X, y, test_size =0.3, random_state =0)"
      ],
      "metadata": {
        "id": "Bu9uzwsOUU_K"
      },
      "execution_count": 7,
      "outputs": []
    },
    {
      "cell_type": "markdown",
      "metadata": {
        "id": "K6uEL0b5Utac"
      },
      "source": [
        "## Training the Multiple Linear Regression model on the Training set"
      ]
    },
    {
      "cell_type": "code",
      "source": [
        "from sklearn.linear_model import LinearRegression\n",
        "regressor = LinearRegression()\n",
        "regressor.fit(X_train, y_train)\n",
        "r2_score = regressor.score(X_test,y_test)\n",
        "print(r2_score*100,'%')"
      ],
      "metadata": {
        "colab": {
          "base_uri": "https://localhost:8080/"
        },
        "id": "9Ypg-W6VWxv9",
        "outputId": "5d194c6a-f8b6-4ab2-9f95-214e08f041f1"
      },
      "execution_count": 8,
      "outputs": [
        {
          "output_type": "stream",
          "name": "stdout",
          "text": [
            "96.08970352661701 %\n"
          ]
        }
      ]
    },
    {
      "cell_type": "markdown",
      "metadata": {
        "id": "RyRva69qUzBK"
      },
      "source": [
        "## Predicting the Test set results"
      ]
    },
    {
      "cell_type": "code",
      "source": [
        "y_pred = regressor.predict(X_test)\n",
        "np.set_printoptions(precision=3)\n",
        "print(np.concatenate((y_pred.reshape(len(y_pred),1), y_pred.reshape(len(y_pred),1)),1))"
      ],
      "metadata": {
        "colab": {
          "base_uri": "https://localhost:8080/"
        },
        "id": "U4dn5wn0jBOO",
        "outputId": "24399e34-a80d-4017-fdb5-a6cc671d9499"
      },
      "execution_count": 9,
      "outputs": [
        {
          "output_type": "stream",
          "name": "stdout",
          "text": [
            "[[ 98425.796  98425.796]\n",
            " [ 65642.292  65642.292]\n",
            " [ 91524.677  91524.677]\n",
            " [ 58819.1    58819.1  ]\n",
            " [ 83159.044  83159.044]\n",
            " [ 36222.332  36222.332]\n",
            " [ 29399.14   29399.14 ]\n",
            " [ 61247.661  61247.661]\n",
            " [ 87714.798  87714.798]\n",
            " [ 43513.286  43513.286]\n",
            " [ 60325.757  60325.757]\n",
            " [ 94053.331  94053.331]\n",
            " [ 80983.35   80983.35 ]\n",
            " [ 87710.07   87710.07 ]\n",
            " [ 89338.444  89338.444]\n",
            " [ 73629.177  73629.177]\n",
            " [ 43903.12   43903.12 ]\n",
            " [ 64082.413  64082.413]\n",
            " [ 61473.094  61473.094]\n",
            " [107665.922 107665.922]\n",
            " [ 47774.029  47774.029]]\n"
          ]
        }
      ]
    },
    {
      "cell_type": "markdown",
      "metadata": {
        "id": "uziF7cmeU4tJ"
      },
      "source": [
        "## Visualizing results"
      ]
    },
    {
      "cell_type": "code",
      "source": [
        "plt.plot(y_pred)\n",
        "plt.plot(y_test)\n",
        "plt.show\n"
      ],
      "metadata": {
        "colab": {
          "base_uri": "https://localhost:8080/",
          "height": 283
        },
        "id": "fSQeCIuxmADY",
        "outputId": "198f0a91-b2f7-4b46-f5d6-4bc370bea4fd"
      },
      "execution_count": 10,
      "outputs": [
        {
          "output_type": "execute_result",
          "data": {
            "text/plain": [
              "<function matplotlib.pyplot.show>"
            ]
          },
          "metadata": {},
          "execution_count": 10
        },
        {
          "output_type": "display_data",
          "data": {
            "image/png": "[encoded data removed]",
            "text/plain": [
              "<Figure size 432x288 with 1 Axes>"
            ]
          },
          "metadata": {
            "needs_background": "light"
          }
        }
      ]
    }
  ]
}