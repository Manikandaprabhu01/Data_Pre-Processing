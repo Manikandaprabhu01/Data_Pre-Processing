{
  "nbformat": 4,
  "nbformat_minor": 0,
  "metadata": {
    "colab": {
      "name": "Data Preprocessing Template.ipynb",
      "provenance": [],
      "collapsed_sections": [],
      "include_colab_link": true
    },
    "kernelspec": {
      "name": "python3",
      "display_name": "Python 3"
    }
  },
  "cells": [
    {
      "cell_type": "markdown",
      "metadata": {
        "id": "view-in-github",
        "colab_type": "text"
      },
      "source": [
        "<a href=\"https://colab.research.google.com/github/Manikandaprabhu01/Data_Pre-Processing/blob/main/Data_Preprocessing_Template.ipynb\" target=\"_parent\"><img src=\"https://colab.research.google.com/assets/colab-badge.svg\" alt=\"Open In Colab\"/></a>"
      ]
    },
    {
      "cell_type": "markdown",
      "metadata": {
        "id": "iIDXUkMElkDd"
      },
      "source": [
        "# Data Preprocessing"
      ]
    },
    {
      "cell_type": "markdown",
      "metadata": {
        "id": "Hj40LjUilpix"
      },
      "source": [
        "## Importing the libraries\n",
        "\n",
        "\n"
      ]
    },
    {
      "cell_type": "code",
      "source": [
        "import numpy as np\n",
        "import pandas as pd\n",
        "import matplotlib.pyplot as plt"
      ],
      "metadata": {
        "id": "ixQjW0mgUvi1"
      },
      "execution_count": 2,
      "outputs": []
    },
    {
      "cell_type": "markdown",
      "metadata": {
        "id": "zApSnwUkl9eD"
      },
      "source": [
        "## Importing Dataset"
      ]
    },
    {
      "cell_type": "code",
      "source": [
        "data_set = pd.read_csv('Covid_Data_new.csv')\n",
        "X =data_set.iloc[:, :-1].values\n",
        "y =data_set.iloc[:, -1].values"
      ],
      "metadata": {
        "id": "FyLL1NduUoNH"
      },
      "execution_count": 8,
      "outputs": []
    },
    {
      "cell_type": "code",
      "source": [
        "print(X)"
      ],
      "metadata": {
        "colab": {
          "base_uri": "https://localhost:8080/"
        },
        "id": "LYka5mzgeJIt",
        "outputId": "155fd330-e286-4308-a3c7-ef5157f157f0"
      },
      "execution_count": 9,
      "outputs": [
        {
          "output_type": "stream",
          "name": "stdout",
          "text": [
            "[[10.0 'Normal' 'no' 'no' 97.0 'No']\n",
            " [12.0 'Normal' 'no' 'no' 97.0 'No']\n",
            " [15.0 'Normal' 'no' 'no' 94.0 'No']\n",
            " [10.0 'Normal' 'no' 'no' 97.0 'No']\n",
            " [13.0 'Moderate' 'no' 'no' 94.0 'No']\n",
            " [12.0 'Moderate' 'no' 'no' 97.0 'No']\n",
            " [13.0 'Moderate' 'no' 'no' 93.0 'No']\n",
            " [15.0 'Moderate' 'no' 'no' 92.0 'No']\n",
            " [18.0 'Moderate' 'no' 'no' 66.0 'Yes']\n",
            " [19.0 'Normal' 'no' 'no' 92.0 'No']\n",
            " [20.0 'Normal' 'no' 'no' 93.0 'No']\n",
            " [17.0 'Normal' 'no' 'no' 93.0 'No']\n",
            " [16.0 'Normal' 'no' 'no' 92.0 'No']\n",
            " [18.0 'Normal' 'no' 'no' 93.0 'No']\n",
            " [20.0 'Normal' 'no' 'no' 92.0 'No']\n",
            " [25.0 'Moderate' 'no' 'no' 93.0 'No']\n",
            " [24.0 'Moderate' 'no' 'no' 92.0 'No']\n",
            " [26.0 'High' 'no' 'no' 94.0 'No']\n",
            " [28.0 'Normal' 'no' 'no' 99.0 'No']\n",
            " [29.0 'Normal' 'no' 'no' 93.0 'No']\n",
            " [30.0 'Moderate' 'no' 'no' 62.0 'Yes']\n",
            " [19.0 'Normal' 'no' 'no' 89.0 'No']\n",
            " [25.0 'Normal' 'no' 'yes' 86.0 'No']\n",
            " [26.0 'Normal' 'no' 'no' nan 'No']\n",
            " [28.0 'Normal' 'no' 'no' 89.0 'No']\n",
            " [30.0 'Moderate' 'yes' 'no' 86.0 'No']\n",
            " [35.0 'Moderate' 'no' 'no' 89.0 'No']\n",
            " [32.0 'Moderate' 'no' 'yes' 84.0 'No']\n",
            " [nan 'Moderate' 'yes' 'no' 90.0 'No']\n",
            " [32.0 'Moderate' 'no' 'no' 89.0 'No']\n",
            " [35.0 'Moderate' 'no' 'yes' 92.0 'No']\n",
            " [38.0 'High' 'no' 'no' 75.0 'Yes']\n",
            " [40.0 'Moderate' 'no' 'yes' 90.0 'No']\n",
            " [46.0 'High' 'yes' 'no' 91.0 'No']\n",
            " [48.0 'Moderate' 'no' 'yes' 93.0 'No']\n",
            " [42.0 'High' 'no' 'no' 92.0 'No']\n",
            " [40.0 'High' 'no' 'no' 92.0 'No']\n",
            " [49.0 'Moderate' 'no' 'no' 80.0 'Yes']\n",
            " [50.0 'High' 'yes' 'yes' 77.0 'Yes']\n",
            " [36.0 'High' 'yes' 'no' 90.0 'No']\n",
            " [52.0 'High' 'yes' 'yes' 80.0 'Yes']\n",
            " [56.0 'High' 'yes' 'yes' 77.0 'Yes']\n",
            " [58.0 'High' 'no' 'no' 70.0 'Yes']\n",
            " [59.0 'High' 'no' 'yes' 69.0 'Yes']\n",
            " [60.0 'High' 'yes' 'yes' 68.0 'Yes']\n",
            " [53.0 'High' 'yes' 'no' 55.0 'Yes']\n",
            " [54.0 'High' 'yes' 'yes' 70.0 'Yes']\n",
            " [62.0 'High' 'yes' 'yes' 68.0 'Yes']\n",
            " [63.0 'High' 'yes' 'yes' 66.0 'Yes']\n",
            " [68.0 'High' 'yes' 'no' 67.0 'Yes']\n",
            " [69.0 'High' 'no' 'yes' 53.0 'Yes']\n",
            " [64.0 'High' 'yes' 'yes' 73.0 'Yes']\n",
            " [61.0 'High' 'yes' 'yes' 76.0 'Yes']\n",
            " [70.0 'Normal' 'no' 'yes' 88.0 'No']\n",
            " [59.0 'High' 'yes' 'no' 68.0 'Yes']\n",
            " [62.0 'High' 'yes' 'yes' 69.0 'Yes']\n",
            " [78.0 'High' 'yes' 'yes' 71.0 'Yes']\n",
            " [74.0 'High' 'yes' 'yes' 75.0 'Yes']\n",
            " [75.0 'High' 'no' 'yes' 72.0 'Yes']\n",
            " [56.0 'High' 'yes' 'no' 76.0 'Yes']\n",
            " [80.0 'High' 'no' 'yes' 92.0 'No']\n",
            " [82.0 'High' 'yes' 'yes' 73.0 'Yes']\n",
            " [86.0 'High' 'yes' 'yes' 71.0 'Yes']\n",
            " [90.0 'High' 'yes' 'yes' 67.0 'Yes']\n",
            " [84.0 'High' 'yes' 'yes' 75.0 'Yes']\n",
            " [86.0 'High' 'no' 'yes' 76.0 'Yes']\n",
            " [61.0 'Moderate' 'no' 'yes' 90.0 'No']\n",
            " [94.0 'High' 'yes' 'yes' 64.0 'Yes']\n",
            " [81.0 'High' 'yes' 'yes' 75.0 'Yes']\n",
            " [76.0 'High' 'yes' 'yes' 80.0 'Yes']]\n"
          ]
        }
      ]
    },
    {
      "cell_type": "markdown",
      "metadata": {
        "id": "XaG0s7WjmgPU"
      },
      "source": [
        "\n",
        "\n",
        "\n",
        "## Handling Missing Data"
      ]
    },
    {
      "cell_type": "markdown",
      "metadata": {
        "id": "o0syRbsSmkoe"
      },
      "source": [
        "## Encoding Categorical Data"
      ]
    },
    {
      "cell_type": "markdown",
      "metadata": {
        "id": "alHfpomamsVr"
      },
      "source": [
        "### Encoding independent variables"
      ]
    },
    {
      "cell_type": "markdown",
      "metadata": {
        "id": "VEJCi9Fgmz-n"
      },
      "source": [
        "### Encoding dependent variables"
      ]
    },
    {
      "cell_type": "markdown",
      "metadata": {
        "id": "Bfz9vcDsm7r6"
      },
      "source": [
        "## Splitting data into Test set & Training Set\n"
      ]
    }
  ]
}